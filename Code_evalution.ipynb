{
 "cells": [
  {
   "cell_type": "code",
   "execution_count": 1,
   "id": "0e0459a2",
   "metadata": {},
   "outputs": [],
   "source": [
    "import pandas as pd\n",
    "import numpy as np\n",
    "\n",
    "from sklearn.decomposition import PCA\n",
    "from sklearn.impute import KNNImputer\n",
    "from sklearn.ensemble import RandomForestClassifier\n",
    "from sklearn.model_selection import train_test_split\n",
    "from sklearn.feature_selection import VarianceThreshold\n",
    "from sklearn.preprocessing import PolynomialFeatures\n",
    "from sklearn.pipeline import make_pipeline\n",
    "\n",
    "\n",
    "RANDOM_STATE = 42"
   ]
  },
  {
   "cell_type": "code",
   "execution_count": 2,
   "id": "05db864e",
   "metadata": {},
   "outputs": [],
   "source": [
    "df = pd.read_csv('train.csv')\n",
    "df.drop(['Id'], axis=1, inplace=True)"
   ]
  },
  {
   "cell_type": "code",
   "execution_count": 3,
   "id": "d8eb70d2",
   "metadata": {},
   "outputs": [],
   "source": [
    "df_test_ = pd.read_csv('test.csv')\n",
    "df_test = df_test_.drop(['Id'], axis=1)"
   ]
  },
  {
   "cell_type": "code",
   "execution_count": 4,
   "id": "ac663e86",
   "metadata": {},
   "outputs": [],
   "source": [
    "features = df.drop(\"Cover_Type\", axis=1)\n",
    "target = df[\"Cover_Type\"]"
   ]
  },
  {
   "cell_type": "code",
   "execution_count": 5,
   "id": "55e9b203",
   "metadata": {},
   "outputs": [],
   "source": [
    "def ein_df(df):\n",
    "    df_cic = df.copy()\n",
    "    \n",
    "    df_cic['Aspect'] = df_cic['Aspect'].apply(lambda x: [x + 180, x - 180][x + 180 > 360])    \n",
    "    df_cic['Slope'] *= (np.pi/180)\n",
    "    df_cic['Aspect'] *= (np.pi/180)\n",
    "    \n",
    "    df_cic['Hillshade_3pm'] = KNNImputer(n_neighbors=2, weights='distance', missing_values=0.)\\\n",
    "                        .fit(features['Hillshade_3pm'].values.reshape(-1,1))\\\n",
    "                        .transform(df_cic['Hillshade_3pm'].values.reshape(-1,1))\n",
    "    df_cic['Soil_Type'] = 0\n",
    "    df_cic['Wilderness_Area'] = 0\n",
    "    drop_soil = range(9, 11)\n",
    "    for i in range(1, 41):\n",
    "        if i in drop_soil:\n",
    "            df_cic.drop(f'Soil_Type{i}',axis=1, inplace=True)\n",
    "            continue\n",
    "        df_cic['Soil_Type'] += df_cic[f'Soil_Type{i}']* i / 10\n",
    "        df_cic.drop(f'Soil_Type{i}', axis=1, inplace=True)\n",
    "   \n",
    "    df_cic['Neg_VDTH'] = (df_cic['Vertical_Distance_To_Hydrology'] < 0).astype(int)\n",
    "    for i in range(1, 5):\n",
    "        df_cic['Wilderness_Area'] += df_cic[f'Wilderness_Area{i}'] * i / 10\n",
    "        df_cic.drop(f'Wilderness_Area{i}', axis=1, inplace=True)\n",
    "        \n",
    "    df_cic['Mult_Ele_Soil'] = df_cic['Elevation']*df_cic['Soil_Type']\n",
    "    df_cic['Mult_Ele_Wild'] = df_cic['Elevation']*df_cic['Wilderness_Area']*2\n",
    "        \n",
    "    df_cic.drop(['Soil_Type', 'Wilderness_Area'], axis=1, inplace=True)\n",
    "    return df_cic\n",
    "\n",
    "f_cic = ein_df(features)\n",
    "\n",
    "f_train, f_val, y_train, y_val = train_test_split(\n",
    "    f_cic, target, test_size=0.0001, random_state=RANDOM_STATE\n",
    ")\n",
    "\n",
    "rnd = np.random.RandomState(seed=RANDOM_STATE)  \n",
    "def split_rnd(label, n):          \n",
    "    idx = rnd.choice(y_train[(y_train == label)].index, int(y_train.shape[0]/7*n), replace=False)\n",
    "    return f_train.loc[idx], y_train.loc[idx]\n",
    "\n",
    "f_spl, y_spl = pd.DataFrame(), pd.Series(dtype=float)\n",
    "spl_sizes = [0.97, 0.99, 0.51, 0.2, 0.23, 0.5, 0.2]  \n",
    "for i in range(7):\n",
    "    f_trn, y_trn = split_rnd(i + 1, spl_sizes[i])\n",
    "    f_spl = f_spl.append(f_trn)\n",
    "    y_spl = y_spl.append(y_trn)\n",
    "    \n",
    "f_spl, _, y_spl, _ = train_test_split(\n",
    "    f_spl, y_spl, test_size=0.0001, random_state=RANDOM_STATE\n",
    ")\n",
    "\n",
    "clf = RandomForestClassifier(n_jobs=-1, n_estimators=300, max_depth=None, criterion='entropy',\n",
    "                        class_weight = 'balanced', bootstrap=False, random_state=RANDOM_STATE)\n",
    "    \n",
    "mod = make_pipeline(VarianceThreshold(0.01), PolynomialFeatures(2), PCA(29), clf)"
   ]
  },
  {
   "cell_type": "code",
   "execution_count": 6,
   "id": "dc7bea3a",
   "metadata": {},
   "outputs": [],
   "source": [
    "f_test = ein_df(df_test)"
   ]
  },
  {
   "cell_type": "code",
   "execution_count": 7,
   "id": "1cda5b14",
   "metadata": {},
   "outputs": [
    {
     "data": {
      "text/plain": [
       "Pipeline(steps=[('variancethreshold', VarianceThreshold(threshold=0.01)),\n",
       "                ('polynomialfeatures', PolynomialFeatures()),\n",
       "                ('pca', PCA(n_components=29)),\n",
       "                ('randomforestclassifier',\n",
       "                 RandomForestClassifier(bootstrap=False,\n",
       "                                        class_weight='balanced',\n",
       "                                        criterion='entropy', n_estimators=300,\n",
       "                                        n_jobs=-1, random_state=42))])"
      ]
     },
     "execution_count": 7,
     "metadata": {},
     "output_type": "execute_result"
    }
   ],
   "source": [
    "mod.fit(f_spl, y_spl)"
   ]
  },
  {
   "cell_type": "code",
   "execution_count": 8,
   "id": "fe413039",
   "metadata": {},
   "outputs": [],
   "source": [
    "pred = mod.predict(f_test)\n",
    "pred_ = pd.Series(pred, index=df_test_['Id'], name='Cover_Type')"
   ]
  }
 ],
 "metadata": {
  "kernelspec": {
   "display_name": "Python 3 (ipykernel)",
   "language": "python",
   "name": "python3"
  },
  "language_info": {
   "codemirror_mode": {
    "name": "ipython",
    "version": 3
   },
   "file_extension": ".py",
   "mimetype": "text/x-python",
   "name": "python",
   "nbconvert_exporter": "python",
   "pygments_lexer": "ipython3",
   "version": "3.9.6"
  }
 },
 "nbformat": 4,
 "nbformat_minor": 5
}
